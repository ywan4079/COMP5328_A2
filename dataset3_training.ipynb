{
 "cells": [
  {
   "cell_type": "code",
   "execution_count": null,
   "id": "e0861f9b",
   "metadata": {},
   "outputs": [],
   "source": [
    "from dataset import ImageDataset, load_dataset, scaling\n",
    "from model import CNN, CNNWithNAL\n",
    "import torch\n",
    "from sklearn.metrics import accuracy_score\n",
    "import pickle\n",
    "\n",
    "torch.cuda.empty_cache()"
   ]
  },
  {
   "cell_type": "markdown",
   "id": "33cc18ed",
   "metadata": {},
   "source": [
    "# CIFAR\n",
    "## Load dataset"
   ]
  },
  {
   "cell_type": "code",
   "execution_count": null,
   "id": "217a6bdd",
   "metadata": {},
   "outputs": [],
   "source": [
    "training_data, training_labels, testing_data, testing_labels = load_dataset('datasets/CIFAR.npz')"
   ]
  },
  {
   "cell_type": "markdown",
   "id": "fedf544d",
   "metadata": {},
   "source": [
    "## Preprocessing"
   ]
  },
  {
   "cell_type": "code",
   "execution_count": null,
   "id": "d6274dec",
   "metadata": {},
   "outputs": [],
   "source": [
    "training_data = scaling(training_data)\n",
    "testing_data = scaling(testing_data)\n",
    "train_dataset = ImageDataset(training_data, training_labels)\n",
    "test_dataset = ImageDataset(testing_data, testing_labels)"
   ]
  },
  {
   "cell_type": "markdown",
   "id": "09d3efcf",
   "metadata": {},
   "source": [
    "## CNN Training"
   ]
  },
  {
   "cell_type": "code",
   "execution_count": null,
   "id": "112728a0",
   "metadata": {},
   "outputs": [],
   "source": [
    "import os\n",
    "if not os.path.exists('results/cnn_CIFAR_pred_results.pkl'):\n",
    "    prediction_results = []\n",
    "    accuracy_results = []\n",
    "    for round in range(10):\n",
    "        print(f\"----------Training CNN round {round+1}/10----------\")\n",
    "        cnn = CNN(num_classes=3, dataset_name=\"CIFAR\")\n",
    "        cnn.train(train_dataset)\n",
    "        y_true, y_pred = cnn.predict(test_dataset)\n",
    "        prediction_results.append((y_true, y_pred))\n",
    "        accuracy = accuracy_score(y_true, y_pred)\n",
    "        accuracy_results.append(accuracy)\n",
    "        print(f\"CNN Test Acc: {accuracy*100:.2f}%\")\n",
    "\n",
    "    with open('results/cnn_CIFAR_pred_results.pkl', 'wb') as f:\n",
    "        pickle.dump(prediction_results, f)\n",
    "\n",
    "    with open('results/cnn_CIFAR_acc_results.pkl', 'wb') as f:\n",
    "        pickle.dump(accuracy_results, f)\n"
   ]
  },
  {
   "cell_type": "markdown",
   "id": "ff8eade4",
   "metadata": {},
   "source": [
    "## CNN with Noise Adaption Layer Training"
   ]
  },
  {
   "cell_type": "code",
   "execution_count": null,
   "id": "1c2b7eaf",
   "metadata": {},
   "outputs": [],
   "source": [
    "if not os.path.exists('results/cnnwithnal_CIFAR_pred_results.pkl'):\n",
    "    prediction_results = []\n",
    "    accuracy_results = []\n",
    "    for round in range(10):\n",
    "        print(f\"----------Training CNN round {round+1}/10----------\")\n",
    "        cnn = CNNWithNAL(num_classes=3, dataset_name=\"CIFAR\")\n",
    "        cnn.train(train_dataset)\n",
    "        y_true, y_pred = cnn.predict(test_dataset)\n",
    "        prediction_results.append((y_true, y_pred))\n",
    "        accuracy = accuracy_score(y_true, y_pred)\n",
    "        accuracy_results.append(accuracy)\n",
    "        print(f\"CNN Test Acc: {accuracy*100:.2f}%\")\n",
    "\n",
    "    with open('results/cnnwithnal_CIFAR_pred_results.pkl', 'wb') as f:\n",
    "        pickle.dump(prediction_results, f)\n",
    "\n",
    "    with open('results/cnnwithnal_CIFAR_acc_results.pkl', 'wb') as f:\n",
    "        pickle.dump(accuracy_results, f)\n"
   ]
  },
  {
   "cell_type": "markdown",
   "id": "553d5477",
   "metadata": {},
   "source": [
    "# Visualisation"
   ]
  },
  {
   "cell_type": "code",
   "execution_count": null,
   "id": "a6b5a6f1",
   "metadata": {},
   "outputs": [],
   "source": [
    "import matplotlib.pyplot as plt\n",
    "import numpy as np\n",
    "import pandas as pd\n",
    "import pickle\n",
    "\n",
    "with open('results/cnn_CIFAR_acc_results.pkl', 'rb') as f:\n",
    "    cnn_acc_CIFAR = pickle.load(f)\n",
    "\n",
    "with open('results/cnnwithnal_CIFAR_acc_results.pkl', 'rb') as f:\n",
    "    cnnwithnal_acc_CIFAR = pickle.load(f)\n",
    "\n",
    "models   = ['CNN', \"CNN with NAL\"]\n",
    "\n",
    "fig, axs = plt.subplots(1, 2, figsize=(10, 6))\n",
    "axs[0].boxplot([cnn_acc_CIFAR, cnnwithnal_acc_CIFAR], labels=models)\n",
    "axs[0].set_title('Accuracy Comparison on CIFAR')\n",
    "axs[0].set_ylabel('Accuracy')\n",
    "axs[0].grid(axis='y', linestyle='--')\n",
    "axs[1].bar(models, [np.mean(cnn_acc_CIFAR), np.mean(cnnwithnal_acc_CIFAR)], label=models, color=['tab:blue', 'tab:orange'])\n",
    "axs[1].set_title('Mean Accuracy on CIFAR')\n",
    "axs[1].set_ylabel('Mean Accuracy')\n",
    "axs[1].grid(axis='y', linestyle='--')\n",
    "plt.legend(models)\n",
    "plt.tight_layout()\n",
    "plt.show()\n"
   ]
  },
  {
   "cell_type": "code",
   "execution_count": null,
   "id": "1ba23f76",
   "metadata": {},
   "outputs": [],
   "source": [
    "from sklearn.metrics import confusion_matrix, ConfusionMatrixDisplay\n",
    "with open('results/cnn_CIFAR_pred_results.pkl', 'rb') as f:\n",
    "    cnn_pred_results_CIFAR = pickle.load(f)\n",
    "y_true = cnn_pred_results_CIFAR[0][0]\n",
    "y_pred = cnn_pred_results_CIFAR[0][1]\n",
    "cm = confusion_matrix(y_true, y_pred)\n",
    "confusion_disp = ConfusionMatrixDisplay(confusion_matrix=cm, display_labels=[0, 1, 2])\n",
    "confusion_disp.plot(cmap=plt.cm.Blues)\n",
    "plt.title('CNN Confusion Matrix on CIFAR')\n",
    "plt.show()"
   ]
  }
 ],
 "metadata": {
  "kernelspec": {
   "display_name": "venv (3.13.2)",
   "language": "python",
   "name": "python3"
  },
  "language_info": {
   "codemirror_mode": {
    "name": "ipython",
    "version": 3
   },
   "file_extension": ".py",
   "mimetype": "text/x-python",
   "name": "python",
   "nbconvert_exporter": "python",
   "pygments_lexer": "ipython3",
   "version": "3.13.2"
  }
 },
 "nbformat": 4,
 "nbformat_minor": 5
}
