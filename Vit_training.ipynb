{
 "cells": [
  {
   "cell_type": "code",
   "execution_count": null,
   "id": "e0861f9b",
   "metadata": {},
   "outputs": [],
   "source": [
    "from dataset import ImageDataset, load_dataset\n",
    "from model import VisionTransformer\n",
    "import torch\n",
    "from sklearn.metrics import accuracy_score\n",
    "import pickle\n",
    "\n",
    "torch.cuda.empty_cache()"
   ]
  },
  {
   "cell_type": "markdown",
   "id": "33cc18ed",
   "metadata": {},
   "source": [
    "# FashionMNIST0.3\n",
    "## Load dataset"
   ]
  },
  {
   "cell_type": "code",
   "execution_count": null,
   "id": "217a6bdd",
   "metadata": {},
   "outputs": [],
   "source": [
    "training_data, training_labels, testing_data, testing_labels = load_dataset('datasets/FashionMNIST0.3.npz')\n",
    "T = torch.tensor([[0.7, 0.3, 0.0],\n",
    "                  [0.0, 0.7, 0.3],\n",
    "                  [0.3, 0.0, 0.7]], dtype=torch.float32)\n",
    "train_dataset = ImageDataset(training_data, training_labels, transition_matrix=T)\n",
    "test_dataset = ImageDataset(testing_data, testing_labels)"
   ]
  },
  {
   "cell_type": "markdown",
   "id": "09d3efcf",
   "metadata": {},
   "source": [
    "## Model Training"
   ]
  },
  {
   "cell_type": "code",
   "execution_count": null,
   "id": "112728a0",
   "metadata": {},
   "outputs": [],
   "source": [
    "prediction_results = []\n",
    "accuracy_results = []\n",
    "for round in range(10):\n",
    "    print(f\"----------Training VisionTransformer round {round+1}/10----------\")\n",
    "    vit = VisionTransformer(num_classes=3, dataset_name=\"FashionMNIST0.3\")\n",
    "    vit.train(train_dataset, round=round)\n",
    "    y_true, y_pred = vit.predict(test_dataset)\n",
    "    prediction_results.append((y_true, y_pred))\n",
    "    accuracy = accuracy_score(y_true, y_pred)\n",
    "    accuracy_results.append(accuracy)\n",
    "    print(f\"ViT Test Acc: {accuracy*100:.2f}%\")\n",
    "\n",
    "with open('results/vit_fashionmnist0.3_pred_results.pkl', 'wb') as f:\n",
    "    pickle.dump(prediction_results, f)\n",
    "\n",
    "with open('results/vit_fashionmnist0.3_acc_results.pkl', 'wb') as f:\n",
    "    pickle.dump(accuracy_results, f)"
   ]
  },
  {
   "cell_type": "markdown",
   "id": "816eb90f",
   "metadata": {},
   "source": [
    "# FashionMNIST0.6\n",
    "## Load Dataset"
   ]
  },
  {
   "cell_type": "code",
   "execution_count": null,
   "id": "374b731c",
   "metadata": {},
   "outputs": [],
   "source": [
    "training_data, training_labels, testing_data, testing_labels = load_dataset('datasets/FashionMNIST0.6.npz')\n",
    "T = torch.tensor([[0.4, 0.3, 0.3],\n",
    "                  [0.3, 0.4, 0.3],\n",
    "                  [0.3, 0.3, 0.4]], dtype=torch.float32)\n",
    "train_dataset = ImageDataset(training_data, training_labels, transition_matrix=T)\n",
    "test_dataset = ImageDataset(testing_data, testing_labels)"
   ]
  },
  {
   "cell_type": "markdown",
   "id": "33d2c9f7",
   "metadata": {},
   "source": [
    "## Model Training"
   ]
  },
  {
   "cell_type": "code",
   "execution_count": null,
   "id": "f2849fcc",
   "metadata": {},
   "outputs": [],
   "source": [
    "prediction_results = []\n",
    "accuracy_results = []\n",
    "for round in range(10):\n",
    "    print(f\"----------Training VisionTransformer round {round+1}/10----------\")\n",
    "    vit = VisionTransformer(num_classes=3, dataset_name=\"FashionMNIST0.6\")\n",
    "    vit.train(train_dataset, round=round)\n",
    "    y_true, y_pred = vit.predict(test_dataset)\n",
    "    prediction_results.append((y_true, y_pred))\n",
    "    accuracy = accuracy_score(y_true, y_pred)\n",
    "    accuracy_results.append(accuracy)\n",
    "    print(f\"ViT Test Acc: {accuracy*100:.2f}%\")\n",
    "\n",
    "with open('results/vit_fashionmnist0.6_pred_results.pkl', 'wb') as f:\n",
    "    pickle.dump(prediction_results, f)\n",
    "\n",
    "with open('results/vit_fashionmnist0.6_acc_results.pkl', 'wb') as f:\n",
    "    pickle.dump(accuracy_results, f)"
   ]
  },
  {
   "cell_type": "markdown",
   "id": "98f122f8",
   "metadata": {},
   "source": [
    "# Visualisation"
   ]
  }
 ],
 "metadata": {
  "kernelspec": {
   "display_name": "venv (3.13.2)",
   "language": "python",
   "name": "python3"
  },
  "language_info": {
   "name": "python",
   "version": "3.13.2"
  }
 },
 "nbformat": 4,
 "nbformat_minor": 5
}
